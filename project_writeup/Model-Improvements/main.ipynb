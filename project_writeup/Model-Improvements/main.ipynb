{
 "cells": [
  {
   "cell_type": "code",
   "execution_count": 1,
   "id": "bde678f9-4fb9-41e9-bdd3-70e3a6842945",
   "metadata": {},
   "outputs": [
    {
     "ename": "SyntaxError",
     "evalue": "invalid syntax (2669961143.py, line 1)",
     "output_type": "error",
     "traceback": [
      "\u001b[0;36m  Cell \u001b[0;32mIn[1], line 1\u001b[0;36m\u001b[0m\n\u001b[0;31m    TODO: Change hyperparams, show overall comparisions amongst all the three models\u001b[0m\n\u001b[0m                 ^\u001b[0m\n\u001b[0;31mSyntaxError\u001b[0m\u001b[0;31m:\u001b[0m invalid syntax\n"
     ]
    }
   ],
   "source": [
    "TODO: Change hyperparams, show overall comparisions amongst all the three models\n",
    "\n",
    "Also show tensorboard improvements per model from basic to this improved on\n",
    "\n",
    "## Optional\n",
    "\n",
    "* Try various data augmentation strategies to further improve your accuracy.\n",
    "* Add Tensorboard graphs in your notebook. `Done`"
   ]
  },
  {
   "cell_type": "code",
   "execution_count": null,
   "id": "43d4b4c6-f086-455c-8a2d-d95d3a87cdf9",
   "metadata": {},
   "outputs": [],
   "source": [
    "Keep in mind that the following are also available:\n",
    "\n",
    "experiment with the optimizer: type of optimizer, learning rate, scheduler etc\n",
    "experiment with the architecture. The Tf Object Detection API model zoo offers many architectures. Keep in mind that the pipeline.config file is unique for each architecture and you will have to edit it."
   ]
  }
 ],
 "metadata": {
  "kernelspec": {
   "display_name": "Python [conda env:tf_object_detection] *",
   "language": "python",
   "name": "conda-env-tf_object_detection-py"
  },
  "language_info": {
   "codemirror_mode": {
    "name": "ipython",
    "version": 3
   },
   "file_extension": ".py",
   "mimetype": "text/x-python",
   "name": "python",
   "nbconvert_exporter": "python",
   "pygments_lexer": "ipython3",
   "version": "3.10.10"
  }
 },
 "nbformat": 4,
 "nbformat_minor": 5
}
