{
 "cells": [
  {
   "cell_type": "markdown",
   "id": "f53f964c-f3a7-4d98-bbb0-cbf160bc4b61",
   "metadata": {},
   "source": [
    "# Overview\n",
    "\n",
    "The motive of this step was to explore the data provided in the AWS S3 bucket and figure out the characteristics of training and validation data. This helped in the following tasks:\n",
    "\n",
    "* What the augmentation strategy should look like\n",
    "* How similar or different the validation data is from the training set data. This sets up a baseline expectations for the performance of the trained model."
   ]
  },
  {
   "cell_type": "markdown",
   "id": "d7445e51-1a67-43f8-8283-70b704267296",
   "metadata": {},
   "source": [
    "## Setting up the Enviroment\n",
    "\n",
    "Since the data provided by Udacity was stored in an AWS S3 bucket, the first step was to setup AWS CLI to download the data locally for further exploration purposes.\n",
    "\n",
    "The instructions to setup the CLI can be found here: https://docs.aws.amazon.com/cli/latest/userguide/getting-started-install.html\n",
    "\n",
    "The fastest and simplest approach is to create a temporary key-value pair in the AWS console to be used with the `aws s3 cp` command and add it to local aws config file. Although it is not the recommended approach, it's quicker and safe enough if you delete the generate key-value pair after its use."
   ]
  },
  {
   "cell_type": "code",
   "execution_count": 127,
   "id": "995b58c6-122f-4c38-a1db-f5dfed7c5046",
   "metadata": {},
   "outputs": [],
   "source": [
    "from PIL import Image\n",
    "import tensorflow as tf"
   ]
  },
  {
   "cell_type": "markdown",
   "id": "45c2b26c-8f1f-484f-ade1-4efedfa787fd",
   "metadata": {},
   "source": [
    "## Downloading the Data"
   ]
  },
  {
   "cell_type": "code",
   "execution_count": 128,
   "id": "7158d8f1-0a26-49ea-8deb-8c67af661597",
   "metadata": {},
   "outputs": [],
   "source": [
    "import os\n",
    "\n",
    "# S3 and local paths for the train and validation tfrecords file\n",
    "region = \"us-east-1\"\n",
    "\n",
    "train_data_remote_path = \"s3://cd2688-object-detection-tf2/train/\"\n",
    "train_data_download_path = os.path.join(os.getcwd(), \"train\")\n",
    "\n",
    "validation_data_remote_path = \"s3://cd2688-object-detection-tf2/val/\"\n",
    "validation_data_download_path = os.path.join(os.getcwd(), \"val\")"
   ]
  },
  {
   "cell_type": "code",
   "execution_count": 64,
   "id": "9c0ad86e-190a-4c1b-90ef-efbacb7ae8f5",
   "metadata": {
    "collapsed": true,
    "jupyter": {
     "outputs_hidden": true
    }
   },
   "outputs": [
    {
     "name": "stdout",
     "output_type": "stream",
     "text": [
      "Starting to download training data at /Users/rajdeep1008/self-driving-nd/cd2688-object-detection-in-urban-environment-project/project_writeup/Exploratory-Data-Analysis/train\n",
      "download: s3://cd2688-object-detection-tf2/train/label_map.pbtxt to train/label_map.pbtxt\n",
      "download: s3://cd2688-object-detection-tf2/train/segment-10094743350625019937_3420_000_3440_000_with_camera_labels.tfrecord to train/segment-10094743350625019937_3420_000_3440_000_with_camera_labels.tfrecord\n",
      "download: s3://cd2688-object-detection-tf2/train/segment-10072231702153043603_5725_000_5745_000_with_camera_labels.tfrecord to train/segment-10072231702153043603_5725_000_5745_000_with_camera_labels.tfrecord\n",
      "download: s3://cd2688-object-detection-tf2/train/segment-10082223140073588526_6140_000_6160_000_with_camera_labels.tfrecord to train/segment-10082223140073588526_6140_000_6160_000_with_camera_labels.tfrecord\n",
      "download: s3://cd2688-object-detection-tf2/train/segment-10153695247769592104_787_000_807_000_with_camera_labels.tfrecord to train/segment-10153695247769592104_787_000_807_000_with_camera_labels.tfrecord\n",
      "download: s3://cd2688-object-detection-tf2/train/segment-10107710434105775874_760_000_780_000_with_camera_labels.tfrecord to train/segment-10107710434105775874_760_000_780_000_with_camera_labels.tfrecord\n",
      "download: s3://cd2688-object-detection-tf2/train/segment-1005081002024129653_5313_150_5333_150_with_camera_labels.tfrecord to train/segment-1005081002024129653_5313_150_5333_150_with_camera_labels.tfrecord\n",
      "download: s3://cd2688-object-detection-tf2/train/segment-1022527355599519580_4866_960_4886_960_with_camera_labels.tfrecord to train/segment-1022527355599519580_4866_960_4886_960_with_camera_labels.tfrecord\n",
      "download: s3://cd2688-object-detection-tf2/train/segment-10212406498497081993_5300_000_5320_000_with_camera_labels.tfrecord to train/segment-10212406498497081993_5300_000_5320_000_with_camera_labels.tfrecord\n",
      "download: s3://cd2688-object-detection-tf2/train/segment-10231929575853664160_1160_000_1180_000_with_camera_labels.tfrecord to train/segment-10231929575853664160_1160_000_1180_000_with_camera_labels.tfrecord\n",
      "download: s3://cd2688-object-detection-tf2/train/segment-10206293520369375008_2796_800_2816_800_with_camera_labels.tfrecord to train/segment-10206293520369375008_2796_800_2816_800_with_camera_labels.tfrecord\n",
      "download: s3://cd2688-object-detection-tf2/train/segment-10235335145367115211_5420_000_5440_000_with_camera_labels.tfrecord to train/segment-10235335145367115211_5420_000_5440_000_with_camera_labels.tfrecord\n",
      "download: s3://cd2688-object-detection-tf2/train/segment-10096619443888687526_2820_000_2840_000_with_camera_labels.tfrecord to train/segment-10096619443888687526_2820_000_2840_000_with_camera_labels.tfrecord\n",
      "download: s3://cd2688-object-detection-tf2/train/segment-10275144660749673822_5755_561_5775_561_with_camera_labels.tfrecord to train/segment-10275144660749673822_5755_561_5775_561_with_camera_labels.tfrecord\n",
      "download: s3://cd2688-object-detection-tf2/train/segment-10241508783381919015_2889_360_2909_360_with_camera_labels.tfrecord to train/segment-10241508783381919015_2889_360_2909_360_with_camera_labels.tfrecord\n",
      "download: s3://cd2688-object-detection-tf2/train/segment-10072140764565668044_4060_000_4080_000_with_camera_labels.tfrecord to train/segment-10072140764565668044_4060_000_4080_000_with_camera_labels.tfrecord\n",
      "download: s3://cd2688-object-detection-tf2/train/segment-10327752107000040525_1120_000_1140_000_with_camera_labels.tfrecord to train/segment-10327752107000040525_1120_000_1140_000_with_camera_labels.tfrecord\n",
      "download: s3://cd2688-object-detection-tf2/train/segment-10226164909075980558_180_000_200_000_with_camera_labels.tfrecord to train/segment-10226164909075980558_180_000_200_000_with_camera_labels.tfrecord\n",
      "download: s3://cd2688-object-detection-tf2/train/segment-10500357041547037089_1474_800_1494_800_with_camera_labels.tfrecord to train/segment-10500357041547037089_1474_800_1494_800_with_camera_labels.tfrecord\n",
      "download: s3://cd2688-object-detection-tf2/train/segment-10455472356147194054_1560_000_1580_000_with_camera_labels.tfrecord to train/segment-10455472356147194054_1560_000_1580_000_with_camera_labels.tfrecord\n",
      "download: s3://cd2688-object-detection-tf2/train/segment-10075870402459732738_1060_000_1080_000_with_camera_labels.tfrecord to train/segment-10075870402459732738_1060_000_1080_000_with_camera_labels.tfrecord\n",
      "download: s3://cd2688-object-detection-tf2/train/segment-10526338824408452410_5714_660_5734_660_with_camera_labels.tfrecord to train/segment-10526338824408452410_5714_660_5734_660_with_camera_labels.tfrecord\n",
      "download: s3://cd2688-object-detection-tf2/train/segment-1051897962568538022_238_170_258_170_with_camera_labels.tfrecord to train/segment-1051897962568538022_238_170_258_170_with_camera_labels.tfrecord\n",
      "download: s3://cd2688-object-detection-tf2/train/segment-10391312872392849784_4099_400_4119_400_with_camera_labels.tfrecord to train/segment-10391312872392849784_4099_400_4119_400_with_camera_labels.tfrecord\n",
      "download: s3://cd2688-object-detection-tf2/train/segment-10584247114982259878_490_000_510_000_with_camera_labels.tfrecord to train/segment-10584247114982259878_490_000_510_000_with_camera_labels.tfrecord\n",
      "download: s3://cd2688-object-detection-tf2/train/segment-10498013744573185290_1240_000_1260_000_with_camera_labels.tfrecord to train/segment-10498013744573185290_1240_000_1260_000_with_camera_labels.tfrecord\n",
      "download: s3://cd2688-object-detection-tf2/train/segment-10444454289801298640_4360_000_4380_000_with_camera_labels.tfrecord to train/segment-10444454289801298640_4360_000_4380_000_with_camera_labels.tfrecord\n",
      "download: s3://cd2688-object-detection-tf2/train/segment-10625026498155904401_200_000_220_000_with_camera_labels.tfrecord to train/segment-10625026498155904401_200_000_220_000_with_camera_labels.tfrecord\n",
      "download: s3://cd2688-object-detection-tf2/train/segment-10485926982439064520_4980_000_5000_000_with_camera_labels.tfrecord to train/segment-10485926982439064520_4980_000_5000_000_with_camera_labels.tfrecord\n",
      "download: s3://cd2688-object-detection-tf2/train/segment-10061305430875486848_1080_000_1100_000_with_camera_labels.tfrecord to train/segment-10061305430875486848_1080_000_1100_000_with_camera_labels.tfrecord\n",
      "download: s3://cd2688-object-detection-tf2/train/segment-10588771936253546636_2300_000_2320_000_with_camera_labels.tfrecord to train/segment-10588771936253546636_2300_000_2320_000_with_camera_labels.tfrecord\n",
      "download: s3://cd2688-object-detection-tf2/train/segment-10517728057304349900_3360_000_3380_000_with_camera_labels.tfrecord to train/segment-10517728057304349900_3360_000_3380_000_with_camera_labels.tfrecord\n",
      "download: s3://cd2688-object-detection-tf2/train/segment-10664823084372323928_4360_000_4380_000_with_camera_labels.tfrecord to train/segment-10664823084372323928_4360_000_4380_000_with_camera_labels.tfrecord\n",
      "download: s3://cd2688-object-detection-tf2/train/segment-10770759614217273359_1465_000_1485_000_with_camera_labels.tfrecord to train/segment-10770759614217273359_1465_000_1485_000_with_camera_labels.tfrecord\n",
      "download: s3://cd2688-object-detection-tf2/train/segment-10723911392655396041_860_000_880_000_with_camera_labels.tfrecord to train/segment-10723911392655396041_860_000_880_000_with_camera_labels.tfrecord\n",
      "download: s3://cd2688-object-detection-tf2/train/segment-10734565072045778791_440_000_460_000_with_camera_labels.tfrecord to train/segment-10734565072045778791_440_000_460_000_with_camera_labels.tfrecord\n",
      "download: s3://cd2688-object-detection-tf2/train/segment-10599748131695282446_1380_000_1400_000_with_camera_labels.tfrecord to train/segment-10599748131695282446_1380_000_1400_000_with_camera_labels.tfrecord\n",
      "download: s3://cd2688-object-detection-tf2/train/segment-10023947602400723454_1120_000_1140_000_with_camera_labels.tfrecord to train/segment-10023947602400723454_1120_000_1140_000_with_camera_labels.tfrecord\n",
      "download: s3://cd2688-object-detection-tf2/train/segment-10596949720463106554_1933_530_1953_530_with_camera_labels.tfrecord to train/segment-10596949720463106554_1933_530_1953_530_with_camera_labels.tfrecord\n",
      "download: s3://cd2688-object-detection-tf2/train/segment-10793018113277660068_2714_540_2734_540_with_camera_labels.tfrecord to train/segment-10793018113277660068_2714_540_2734_540_with_camera_labels.tfrecord\n",
      "download: s3://cd2688-object-detection-tf2/train/segment-1083056852838271990_4080_000_4100_000_with_camera_labels.tfrecord to train/segment-1083056852838271990_4080_000_4100_000_with_camera_labels.tfrecord\n",
      "download: s3://cd2688-object-detection-tf2/train/segment-10676267326664322837_311_180_331_180_with_camera_labels.tfrecord to train/segment-10676267326664322837_311_180_331_180_with_camera_labels.tfrecord\n",
      "download: s3://cd2688-object-detection-tf2/train/segment-10750135302241325253_180_000_200_000_with_camera_labels.tfrecord to train/segment-10750135302241325253_180_000_200_000_with_camera_labels.tfrecord\n",
      "download: s3://cd2688-object-detection-tf2/train/segment-10927752430968246422_4940_000_4960_000_with_camera_labels.tfrecord to train/segment-10927752430968246422_4940_000_4960_000_with_camera_labels.tfrecord\n",
      "download: s3://cd2688-object-detection-tf2/train/segment-10786629299947667143_3440_000_3460_000_with_camera_labels.tfrecord to train/segment-10786629299947667143_3440_000_3460_000_with_camera_labels.tfrecord\n",
      "download: s3://cd2688-object-detection-tf2/train/segment-10724020115992582208_7660_400_7680_400_with_camera_labels.tfrecord to train/segment-10724020115992582208_7660_400_7680_400_with_camera_labels.tfrecord\n",
      "download: s3://cd2688-object-detection-tf2/train/segment-10963653239323173269_1924_000_1944_000_with_camera_labels.tfrecord to train/segment-10963653239323173269_1924_000_1944_000_with_camera_labels.tfrecord\n",
      "download: s3://cd2688-object-detection-tf2/train/segment-10940952441434390507_1888_710_1908_710_with_camera_labels.tfrecord to train/segment-10940952441434390507_1888_710_1908_710_with_camera_labels.tfrecord\n",
      "download: s3://cd2688-object-detection-tf2/train/segment-11076364019363412893_1711_000_1731_000_with_camera_labels.tfrecord to train/segment-11076364019363412893_1711_000_1731_000_with_camera_labels.tfrecord\n",
      "download: s3://cd2688-object-detection-tf2/train/segment-10964956617027590844_1584_680_1604_680_with_camera_labels.tfrecord to train/segment-10964956617027590844_1584_680_1604_680_with_camera_labels.tfrecord\n",
      "download: s3://cd2688-object-detection-tf2/train/segment-11060291335850384275_3761_210_3781_210_with_camera_labels.tfrecord to train/segment-11060291335850384275_3761_210_3781_210_with_camera_labels.tfrecord\n",
      "download: s3://cd2688-object-detection-tf2/train/segment-11119453952284076633_1369_940_1389_940_with_camera_labels.tfrecord to train/segment-11119453952284076633_1369_940_1389_940_with_camera_labels.tfrecord\n",
      "download: s3://cd2688-object-detection-tf2/train/segment-11017034898130016754_697_830_717_830_with_camera_labels.tfrecord to train/segment-11017034898130016754_697_830_717_830_with_camera_labels.tfrecord\n",
      "download: s3://cd2688-object-detection-tf2/train/segment-11004685739714500220_2300_000_2320_000_with_camera_labels.tfrecord to train/segment-11004685739714500220_2300_000_2320_000_with_camera_labels.tfrecord\n",
      "download: s3://cd2688-object-detection-tf2/train/segment-10923963890428322967_1445_000_1465_000_with_camera_labels.tfrecord to train/segment-10923963890428322967_1445_000_1465_000_with_camera_labels.tfrecord\n",
      "download: s3://cd2688-object-detection-tf2/train/segment-11139647661584646830_5470_000_5490_000_with_camera_labels.tfrecord to train/segment-11139647661584646830_5470_000_5490_000_with_camera_labels.tfrecord\n",
      "download: s3://cd2688-object-detection-tf2/train/segment-11113047206980595400_2560_000_2580_000_with_camera_labels.tfrecord to train/segment-11113047206980595400_2560_000_2580_000_with_camera_labels.tfrecord\n",
      "download: s3://cd2688-object-detection-tf2/train/segment-10876852935525353526_1640_000_1660_000_with_camera_labels.tfrecord to train/segment-10876852935525353526_1640_000_1660_000_with_camera_labels.tfrecord\n",
      "download: s3://cd2688-object-detection-tf2/train/segment-11219370372259322863_5320_000_5340_000_with_camera_labels.tfrecord to train/segment-11219370372259322863_5320_000_5340_000_with_camera_labels.tfrecord\n",
      "download: s3://cd2688-object-detection-tf2/train/segment-11126313430116606120_1439_990_1459_990_with_camera_labels.tfrecord to train/segment-11126313430116606120_1439_990_1459_990_with_camera_labels.tfrecord\n",
      "download: s3://cd2688-object-detection-tf2/train/segment-10975280749486260148_940_000_960_000_with_camera_labels.tfrecord to train/segment-10975280749486260148_940_000_960_000_with_camera_labels.tfrecord\n",
      "download: s3://cd2688-object-detection-tf2/train/segment-11252086830380107152_1540_000_1560_000_with_camera_labels.tfrecord to train/segment-11252086830380107152_1540_000_1560_000_with_camera_labels.tfrecord\n",
      "download: s3://cd2688-object-detection-tf2/train/segment-11343624116265195592_5910_530_5930_530_with_camera_labels.tfrecord to train/segment-11343624116265195592_5910_530_5930_530_with_camera_labels.tfrecord\n",
      "download: s3://cd2688-object-detection-tf2/train/segment-11070802577416161387_740_000_760_000_with_camera_labels.tfrecord to train/segment-11070802577416161387_740_000_760_000_with_camera_labels.tfrecord\n",
      "download: s3://cd2688-object-detection-tf2/train/segment-11355519273066561009_5323_000_5343_000_with_camera_labels.tfrecord to train/segment-11355519273066561009_5323_000_5343_000_with_camera_labels.tfrecord\n",
      "download: s3://cd2688-object-detection-tf2/train/segment-11392401368700458296_1086_429_1106_429_with_camera_labels.tfrecord to train/segment-11392401368700458296_1086_429_1106_429_with_camera_labels.tfrecord\n",
      "download: s3://cd2688-object-detection-tf2/train/segment-11183906854663518829_2294_000_2314_000_with_camera_labels.tfrecord to train/segment-11183906854663518829_2294_000_2314_000_with_camera_labels.tfrecord\n",
      "download: s3://cd2688-object-detection-tf2/train/segment-11388947676680954806_5427_320_5447_320_with_camera_labels.tfrecord to train/segment-11388947676680954806_5427_320_5447_320_with_camera_labels.tfrecord\n",
      "download: s3://cd2688-object-detection-tf2/train/segment-11236550977973464715_3620_000_3640_000_with_camera_labels.tfrecord to train/segment-11236550977973464715_3620_000_3640_000_with_camera_labels.tfrecord\n",
      "download: s3://cd2688-object-detection-tf2/train/segment-11486225968269855324_92_000_112_000_with_camera_labels.tfrecord to train/segment-11486225968269855324_92_000_112_000_with_camera_labels.tfrecord\n",
      "download: s3://cd2688-object-detection-tf2/train/segment-1146261869236413282_1680_000_1700_000_with_camera_labels.tfrecord to train/segment-1146261869236413282_1680_000_1700_000_with_camera_labels.tfrecord\n",
      "download: s3://cd2688-object-detection-tf2/train/segment-11566385337103696871_5740_000_5760_000_with_camera_labels.tfrecord to train/segment-11566385337103696871_5740_000_5760_000_with_camera_labels.tfrecord\n",
      "download: s3://cd2688-object-detection-tf2/train/segment-11454085070345530663_1905_000_1925_000_with_camera_labels.tfrecord to train/segment-11454085070345530663_1905_000_1925_000_with_camera_labels.tfrecord\n",
      "download: s3://cd2688-object-detection-tf2/train/segment-11199484219241918646_2810_030_2830_030_with_camera_labels.tfrecord to train/segment-11199484219241918646_2810_030_2830_030_with_camera_labels.tfrecord\n",
      "download: s3://cd2688-object-detection-tf2/train/segment-11489533038039664633_4820_000_4840_000_with_camera_labels.tfrecord to train/segment-11489533038039664633_4820_000_4840_000_with_camera_labels.tfrecord\n",
      "download: s3://cd2688-object-detection-tf2/train/segment-11379226583756500423_6230_810_6250_810_with_camera_labels.tfrecord to train/segment-11379226583756500423_6230_810_6250_810_with_camera_labels.tfrecord\n",
      "download: s3://cd2688-object-detection-tf2/train/segment-11623618970700582562_2840_367_2860_367_with_camera_labels.tfrecord to train/segment-11623618970700582562_2840_367_2860_367_with_camera_labels.tfrecord\n",
      "download: s3://cd2688-object-detection-tf2/train/segment-11839652018869852123_2565_000_2585_000_with_camera_labels.tfrecord to train/segment-11839652018869852123_2565_000_2585_000_with_camera_labels.tfrecord\n",
      "download: s3://cd2688-object-detection-tf2/train/segment-11718898130355901268_2300_000_2320_000_with_camera_labels.tfrecord to train/segment-11718898130355901268_2300_000_2320_000_with_camera_labels.tfrecord\n",
      "download: s3://cd2688-object-detection-tf2/train/segment-11588853832866011756_2184_462_2204_462_with_camera_labels.tfrecord to train/segment-11588853832866011756_2184_462_2204_462_with_camera_labels.tfrecord\n",
      "download: s3://cd2688-object-detection-tf2/train/segment-11674150664140226235_680_000_700_000_with_camera_labels.tfrecord to train/segment-11674150664140226235_680_000_700_000_with_camera_labels.tfrecord\n",
      "download: s3://cd2688-object-detection-tf2/train/segment-11799592541704458019_9828_750_9848_750_with_camera_labels.tfrecord to train/segment-11799592541704458019_9828_750_9848_750_with_camera_labels.tfrecord\n",
      "download: s3://cd2688-object-detection-tf2/train/segment-11318901554551149504_520_000_540_000_with_camera_labels.tfrecord to train/segment-11318901554551149504_520_000_540_000_with_camera_labels.tfrecord\n",
      "download: s3://cd2688-object-detection-tf2/train/segment-1172406780360799916_1660_000_1680_000_with_camera_labels.tfrecord to train/segment-1172406780360799916_1660_000_1680_000_with_camera_labels.tfrecord\n",
      "download: s3://cd2688-object-detection-tf2/train/segment-10017090168044687777_6380_000_6400_000_with_camera_labels.tfrecord to train/segment-10017090168044687777_6380_000_6400_000_with_camera_labels.tfrecord\n"
     ]
    }
   ],
   "source": [
    "!echo \"Starting to download training data at {train_data_download_path}\"\n",
    "!aws s3 cp {train_data_remote_path} {train_data_download_path} --recursive --region {region}"
   ]
  },
  {
   "cell_type": "code",
   "execution_count": 65,
   "id": "508ed4b7-b3b7-4d57-9057-768924bca36e",
   "metadata": {
    "collapsed": true,
    "jupyter": {
     "outputs_hidden": true
    }
   },
   "outputs": [
    {
     "name": "stdout",
     "output_type": "stream",
     "text": [
      "Starting to download validation data at /Users/rajdeep1008/self-driving-nd/cd2688-object-detection-in-urban-environment-project/project_writeup/Exploratory-Data-Analysis/val\n",
      "download: s3://cd2688-object-detection-tf2/val/label_map.pbtxt to val/label_map.pbtxt\n",
      "download: s3://cd2688-object-detection-tf2/val/segment-12012663867578114640_820_000_840_000_with_camera_labels.tfrecord to val/segment-12012663867578114640_820_000_840_000_with_camera_labels.tfrecord\n",
      "download: s3://cd2688-object-detection-tf2/val/segment-12161824480686739258_1813_380_1833_380_with_camera_labels.tfrecord to val/segment-12161824480686739258_1813_380_1833_380_with_camera_labels.tfrecord\n",
      "download: s3://cd2688-object-detection-tf2/val/segment-12027892938363296829_4086_280_4106_280_with_camera_labels.tfrecord to val/segment-12027892938363296829_4086_280_4106_280_with_camera_labels.tfrecord\n",
      "download: s3://cd2688-object-detection-tf2/val/segment-1208303279778032257_1360_000_1380_000_with_camera_labels.tfrecord to val/segment-1208303279778032257_1360_000_1380_000_with_camera_labels.tfrecord\n",
      "download: s3://cd2688-object-detection-tf2/val/segment-11928449532664718059_1200_000_1220_000_with_camera_labels.tfrecord to val/segment-11928449532664718059_1200_000_1220_000_with_camera_labels.tfrecord\n",
      "download: s3://cd2688-object-detection-tf2/val/segment-1191788760630624072_3880_000_3900_000_with_camera_labels.tfrecord to val/segment-1191788760630624072_3880_000_3900_000_with_camera_labels.tfrecord\n",
      "download: s3://cd2688-object-detection-tf2/val/segment-12174529769287588121_3848_440_3868_440_with_camera_labels.tfrecord to val/segment-12174529769287588121_3848_440_3868_440_with_camera_labels.tfrecord\n",
      "download: s3://cd2688-object-detection-tf2/val/segment-12200383401366682847_2552_140_2572_140_with_camera_labels.tfrecord to val/segment-12200383401366682847_2552_140_2572_140_with_camera_labels.tfrecord\n",
      "download: s3://cd2688-object-detection-tf2/val/segment-12179768245749640056_5561_070_5581_070_with_camera_labels.tfrecord to val/segment-12179768245749640056_5561_070_5581_070_with_camera_labels.tfrecord\n",
      "download: s3://cd2688-object-detection-tf2/val/segment-11971497357570544465_1200_000_1220_000_with_camera_labels.tfrecord to val/segment-11971497357570544465_1200_000_1220_000_with_camera_labels.tfrecord\n",
      "download: s3://cd2688-object-detection-tf2/val/segment-11967272535264406807_580_000_600_000_with_camera_labels.tfrecord to val/segment-11967272535264406807_580_000_600_000_with_camera_labels.tfrecord\n",
      "download: s3://cd2688-object-detection-tf2/val/segment-11925224148023145510_1040_000_1060_000_with_camera_labels.tfrecord to val/segment-11925224148023145510_1040_000_1060_000_with_camera_labels.tfrecord\n",
      "download: s3://cd2688-object-detection-tf2/val/segment-11940460932056521663_1760_000_1780_000_with_camera_labels.tfrecord to val/segment-11940460932056521663_1760_000_1780_000_with_camera_labels.tfrecord\n"
     ]
    }
   ],
   "source": [
    "!echo \"Starting to download validation data at {validation_data_download_path}\"\n",
    "!aws s3 cp {validation_data_remote_path} {validation_data_download_path} --recursive --region {region}"
   ]
  },
  {
   "cell_type": "code",
   "execution_count": 129,
   "id": "f9358500-8a4e-48d4-8f61-a65907f7193c",
   "metadata": {},
   "outputs": [
    {
     "name": "stdout",
     "output_type": "stream",
     "text": [
      "Total training files downloaded: 84\n",
      "Total validation files downloaded: 13\n"
     ]
    }
   ],
   "source": [
    "training_files = os.listdir(train_data_download_path)\n",
    "training_files = [os.path.join(train_data_download_path, fname) for fname in training_files if fname.endswith(\"tfrecord\")]\n",
    "print(f\"Total training files downloaded: {len(training_files)}\")\n",
    "\n",
    "validation_files = os.listdir(validation_data_download_path)\n",
    "validation_files = [os.path.join(validation_data_download_path, fname) for fname in validation_files if fname.endswith(\"tfrecord\")]\n",
    "print(f\"Total validation files downloaded: {len(validation_files)}\")"
   ]
  },
  {
   "cell_type": "markdown",
   "id": "9aeb565b-892f-4c67-b84f-591b032e0743",
   "metadata": {},
   "source": [
    "## Converting to a Human-Readable Format\n",
    " \n",
    "The data provided is divided into multiple files, each in the `tfrecord` format following the requirements mentioned by TF object detection API.\n",
    "\n",
    "So the next step are:\n",
    "1. Parse `encoded images` and `class labels` for each of the tfrecords\n",
    "2. Convert the images from byte string to jpeg and write them in a folder so that they can be visualized\n",
    "3. Chart the distribution of the predicted ground-truth classes"
   ]
  },
  {
   "cell_type": "code",
   "execution_count": 130,
   "id": "579f4969-ec51-4682-9541-c75cdb55c1c0",
   "metadata": {},
   "outputs": [],
   "source": [
    "raw_training_dataset = tf.data.TFRecordDataset(training_files)\n",
    "raw_validation_dataset = tf.data.TFRecordDataset(validation_files)\n",
    "\n",
    "# features mapping for the required image and labels data\n",
    "feature_description = {\n",
    "    \"image/object/class/label\": tf.io.FixedLenSequenceFeature([], tf.int64, allow_missing=True),\n",
    "    \"image/encoded\": tf.io.FixedLenSequenceFeature([], tf.string, allow_missing=True),\n",
    "}\n",
    "\n",
    "def parse_raw_dataset(proto_item):\n",
    "    return tf.io.parse_single_example(proto_item, feature_description)"
   ]
  },
  {
   "cell_type": "code",
   "execution_count": 131,
   "id": "a6e41d22-06e5-42a5-bb29-9579d24fdec9",
   "metadata": {},
   "outputs": [
    {
     "name": "stdout",
     "output_type": "stream",
     "text": [
      "Total training images: 1679\n",
      "Total validation images: 258\n"
     ]
    }
   ],
   "source": [
    "parsed_training_dataset = raw_training_dataset.map(parse_raw_dataset)\n",
    "parsed_validation_dataset = raw_validation_dataset.map(parse_raw_dataset)\n",
    "\n",
    "# the images gets stored in numpy array format and the classes as integers in a list\n",
    "train_images = []\n",
    "train_classes = []\n",
    "\n",
    "validation_images = []\n",
    "validation_classes = []\n",
    "\n",
    "for item in parsed_training_dataset:\n",
    "    img = tf.io.decode_jpeg(item[\"image/encoded\"].numpy()[0]).numpy()\n",
    "    label = item[\"image/object/class/label\"].numpy()\n",
    "    \n",
    "    train_images.append(img)\n",
    "    train_classes.append(label)\n",
    "\n",
    "for item in parsed_validation_dataset:\n",
    "    img = tf.io.decode_jpeg(item[\"image/encoded\"].numpy()[0]).numpy()\n",
    "    label = item[\"image/object/class/label\"].numpy()\n",
    "\n",
    "    validation_images.append(img)\n",
    "    validation_classes.append(label)\n",
    "\n",
    "print(f\"Total training images: {len(train_images)}\")\n",
    "print(f\"Total validation images: {len(validation_images)}\")"
   ]
  },
  {
   "cell_type": "code",
   "execution_count": 120,
   "id": "3b3c4e2f-65ca-4539-9793-33487e1b02c0",
   "metadata": {
    "scrolled": true
   },
   "outputs": [],
   "source": [
    "# Creates images from the numpy arrays and store them as jpeg\n",
    "if not os.path.isdir(\"train_images\"):\n",
    "    os.mkdir(\"train_images\")\n",
    "\n",
    "if not os.path.isdir(\"val_images\"):\n",
    "    os.mkdir(\"val_images\")\n",
    "\n",
    "# this will create a gif for quick visualization\n",
    "training_gif = []\n",
    "validation_gif = []\n",
    "\n",
    "for idx, img in enumerate(train_images):\n",
    "    img = Image.fromarray(img)\n",
    "    img.save(f\"./train_images/{idx}.jpg\")\n",
    "    training_gif.append(img)\n",
    "\n",
    "for idx, img in enumerate(validation_images):\n",
    "    img = Image.fromarray(img)\n",
    "    img.save(f\"./val_images/{idx}.jpg\")\n",
    "    validation_gif.append(img)"
   ]
  },
  {
   "cell_type": "code",
   "execution_count": null,
   "id": "a055cf29-3e09-418f-b756-48a40e6ca671",
   "metadata": {},
   "outputs": [],
   "source": [
    "# Creating a gif out of all the images for easy viewing.\n",
    "# Right click the created gif and open in a browser for easy viewing exp.\n",
    "\n",
    "# this will take a few minutes since the final file is around ~450mb in size\n",
    "training_gif[0].save(\"training.gif\", save_all=True, optimize=False, append_images=training_gif[1:], loop=0)"
   ]
  },
  {
   "cell_type": "code",
   "execution_count": 121,
   "id": "808b6739-0891-4be9-9b9c-3d5ec74733d7",
   "metadata": {},
   "outputs": [],
   "source": [
    "validation_gif[0].save(\"validation.gif\", save_all=True, optimize=False, append_images=validation_gif[1:], loop=0)"
   ]
  },
  {
   "cell_type": "markdown",
   "id": "d2d71975-2f64-46df-8d5d-2e0583db7cab",
   "metadata": {},
   "source": [
    "## Basic EDA\n",
    "\n",
    "I've compared the distribution of type of classes in both the validation and training datasets. This provides a basic idea about the distribution of objects."
   ]
  },
  {
   "cell_type": "code",
   "execution_count": 143,
   "id": "c705b4af-8efb-4466-bcff-022d8b75764f",
   "metadata": {},
   "outputs": [],
   "source": [
    "# Given mapping of the labels and classes\n",
    "mapping = {\n",
    "    \"1\": \"vehicle\",\n",
    "    \"2\": \"pedestrian\",\n",
    "    \"4\": \"cyclist\",\n",
    "}"
   ]
  },
  {
   "cell_type": "code",
   "execution_count": 148,
   "id": "9ef556c8-c3cb-462c-a509-6f9a72c28bf9",
   "metadata": {},
   "outputs": [],
   "source": [
    "training_class_count_mapping = {\n",
    "    \"1\": 0,\n",
    "    \"2\": 0,\n",
    "    \"4\": 0,\n",
    "}\n",
    "validation_class_count_mapping = {\n",
    "    \"1\": 0,\n",
    "    \"2\": 0,\n",
    "    \"4\": 0,\n",
    "}\n",
    "\n",
    "for item_arr in train_classes:\n",
    "    for item in item_arr:\n",
    "        training_class_count_mapping[str(item)] = training_class_count_mapping[str(item)] + 1\n",
    "\n",
    "for item_arr in validation_classes:\n",
    "    for item in item_arr:\n",
    "        validation_class_count_mapping[str(item)] = validation_class_count_mapping[str(item)] + 1\n",
    "\n",
    "train_labels_final = [mapping[class_label] for (class_label, count) in list(training_class_count_mapping.items())]\n",
    "train_dist_counts = [count for (class_label, count) in list(training_class_count_mapping.items())]\n",
    "\n",
    "val_labels_final = [mapping[class_label] for (class_label, count) in list(validation_class_count_mapping.items())]\n",
    "val_dist_counts = [count for (class_label, count) in list(validation_class_count_mapping.items())]"
   ]
  },
  {
   "cell_type": "code",
   "execution_count": 141,
   "id": "c86048e1-3715-4e0a-8428-4d5d1aa12b60",
   "metadata": {},
   "outputs": [],
   "source": [
    "import matplotlib.pyplot as plt"
   ]
  },
  {
   "cell_type": "code",
   "execution_count": 153,
   "id": "bf2f8a0e-9bd9-4052-874c-f2a3843ce210",
   "metadata": {},
   "outputs": [
    {
     "data": {
      "text/plain": [
       "Text(0.5, 1.0, 'Object type distribution in Training data set')"
      ]
     },
     "execution_count": 153,
     "metadata": {},
     "output_type": "execute_result"
    },
    {
     "data": {
      "image/png": "[encoded data removed]",
      "text/plain": [
       "<Figure size 1600x1000 with 1 Axes>"
      ]
     },
     "metadata": {},
     "output_type": "display_data"
    }
   ],
   "source": [
    "# Training data class distribution\n",
    "\n",
    "plt.figure(figsize=(16,10))\n",
    "plt.bar(train_labels_final, train_dist_counts)\n",
    "plt.xlabel(\"Type\")\n",
    "plt.ylabel(\"Count\")\n",
    "plt.title(\"Object type distribution in Training data set\")"
   ]
  },
  {
   "cell_type": "code",
   "execution_count": 154,
   "id": "74bf9764-d801-4bc7-9c64-10d1b2f4e39a",
   "metadata": {},
   "outputs": [
    {
     "data": {
      "text/plain": [
       "Text(0.5, 1.0, 'Object type distribution in Validation data set')"
      ]
     },
     "execution_count": 154,
     "metadata": {},
     "output_type": "execute_result"
    },
    {
     "data": {
      "image/png": "[encoded data removed]",
      "text/plain": [
       "<Figure size 1600x1000 with 1 Axes>"
      ]
     },
     "metadata": {},
     "output_type": "display_data"
    }
   ],
   "source": [
    "# Validation data class distribution\n",
    "\n",
    "plt.figure(figsize=(16,10))\n",
    "plt.bar(val_labels_final, val_dist_counts)\n",
    "plt.xlabel(\"Type\")\n",
    "plt.ylabel(\"Count\")\n",
    "plt.title(\"Object type distribution in Validation data set\")"
   ]
  },
  {
   "cell_type": "markdown",
   "id": "649bdb35-664f-4854-a076-85f408eb1d91",
   "metadata": {},
   "source": [
    "## Remarks"
   ]
  },
  {
   "cell_type": "markdown",
   "id": "a7fef113-413d-40f0-8d55-02a38f0214f7",
   "metadata": {},
   "source": [
    "### Understanding from the plots\n",
    "\n",
    "* The number of detected vehicles in the given data segments is almost 3x of pedestrians. The number of cyclists are very less as compared to the other two types.\n",
    "* Validation and Training data follows the same trend which means that the model should be able to generalize on the validation set well.\n",
    "* This sets up a tone about the shape of training anchors for bounding box regression which I further explore in the model improvements section.\n",
    "\n",
    "### Observations from the Training images\n",
    "\n",
    "* Training segments had a good mixture of day and night scenes\n",
    "* A lot of them had harsh rainy weather drives where camera was covered with water drops, mist and watery occlusions\n",
    "* Some places had construction going on along some really tight driving spots\n",
    "* Some of the freeway drives had a direct sunlight glare on the camera lens causing the images to be extremely bright\n",
    "* Images where it was raining during night time might turn out challenging\n",
    " \n",
    "### Observations from the Validation images\n",
    "\n",
    "* Validation images also had a decent mixture of day and night scenes\n",
    "* The weather wasn't as rainy as that of the training dataset\n",
    "* Some images with camera sunlight glares where present too"
   ]
  },
  {
   "cell_type": "code",
   "execution_count": null,
   "id": "d71e4887-ca9e-4bbd-be70-427df13ac96a",
   "metadata": {},
   "outputs": [],
   "source": []
  }
 ],
 "metadata": {
  "kernelspec": {
   "display_name": "Python [conda env:tf_object_detection] *",
   "language": "python",
   "name": "conda-env-tf_object_detection-py"
  },
  "language_info": {
   "codemirror_mode": {
    "name": "ipython",
    "version": 3
   },
   "file_extension": ".py",
   "mimetype": "text/x-python",
   "name": "python",
   "nbconvert_exporter": "python",
   "pygments_lexer": "ipython3",
   "version": "3.10.10"
  }
 },
 "nbformat": 4,
 "nbformat_minor": 5
}
