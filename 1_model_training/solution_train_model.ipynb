{
 "cells": [
  {
   "cell_type": "markdown",
   "id": "79c6d23f-24d5-4d5c-b039-1f56f6bcfa0e",
   "metadata": {},
   "source": [
    "## Common Code\n",
    "\n",
    "These steps are prerequisites to both of the models. So run these code cells before running any of the model specific code."
   ]
  },
  {
   "cell_type": "code",
   "execution_count": null,
   "id": "7cab2d01-bcb4-4547-b246-3fe6b1e06cdb",
   "metadata": {},
   "outputs": [],
   "source": [
    "!pip install tensorflow_io sagemaker -U"
   ]
  },
  {
   "cell_type": "code",
   "execution_count": null,
   "id": "d93ef1c0-9a4a-4bde-962e-023f8737e518",
   "metadata": {},
   "outputs": [],
   "source": [
    "import os\n",
    "import sagemaker\n",
    "from framework import CustomFramework"
   ]
  },
  {
   "cell_type": "code",
   "execution_count": null,
   "id": "47a1bded-14fb-41f4-af3b-7ae763d86a90",
   "metadata": {},
   "outputs": [],
   "source": [
    "role = sagemaker.get_execution_role()\n",
    "print(role)"
   ]
  },
  {
   "cell_type": "code",
   "execution_count": null,
   "id": "6b8d4c6b-4d22-42a6-9ef7-afbce09cbcd0",
   "metadata": {},
   "outputs": [],
   "source": [
    "inputs = {\n",
    "    \"train\": \"s3://cd2688-object-detection-tf2/train/\",\n",
    "    \"val\": \"s3://cd2688-object-detection-tf2/val/\"\n",
    "}"
   ]
  },
  {
   "cell_type": "code",
   "execution_count": null,
   "id": "95641c49-72d4-4187-9d36-b38f838d2365",
   "metadata": {},
   "outputs": [],
   "source": [
    "%%bash\n",
    "\n",
    "git clone https://github.com/tensorflow/models.git docker/models\n",
    "\n",
    "cp docker/models/research/object_detection/exporter_main_v2.py source_dir\n",
    "cp docker/models/research/object_detection/model_main_tf2.py source_dir"
   ]
  },
  {
   "cell_type": "code",
   "execution_count": null,
   "id": "fac44718-800e-4714-8e2b-b3911ccacaa3",
   "metadata": {},
   "outputs": [],
   "source": [
    "image_name = \"tf2-object-detection-custom\"\n",
    "!sh ./docker/build_and_push.sh $image_name"
   ]
  },
  {
   "cell_type": "code",
   "execution_count": null,
   "id": "c90f4d7b-d9b5-4a5e-8186-4f0bd4214901",
   "metadata": {},
   "outputs": [],
   "source": [
    "with open(os.path.join(\"docker\", \"ecr_image_fullname.txt\"), \"r\") as f:\n",
    "    container = f.readlines()[0][:-1]\n",
    "\n",
    "print(container)"
   ]
  },
  {
   "cell_type": "markdown",
   "id": "b1953ede-dd81-4d3d-9eba-b0a98c392e64",
   "metadata": {},
   "source": [
    "## TODO 1.1\n",
    "## Model 1: Faster R-CNN ResNet152 V1 640x640"
   ]
  },
  {
   "cell_type": "code",
   "execution_count": null,
   "id": "6413b3bd-64f9-4b86-a414-6ac04fae8094",
   "metadata": {},
   "outputs": [],
   "source": [
    "tensorboard_s3_prefix = \"s3://object-detection-project-singhsegv/faster-rcnn-resnet152/logs/\""
   ]
  },
  {
   "cell_type": "code",
   "execution_count": null,
   "id": "bcd08c49-8b9c-407b-bbe8-bdcbf721fdc7",
   "metadata": {},
   "outputs": [],
   "source": [
    "%%bash\n",
    "\n",
    "mkdir /tmp/checkpoint\n",
    "mkdir source_dir/checkpoint\n",
    "wget -O /tmp/faster_rcnn.tar.gz http://download.tensorflow.org/models/object_detection/tf2/20200711/faster_rcnn_resnet152_v1_640x640_coco17_tpu-8.tar.gz\n",
    "tar -zxvf /tmp/faster_rcnn.tar.gz --strip-components 2 --directory source_dir/checkpoint faster_rcnn_resnet152_v1_640x640_coco17_tpu-8/checkpoint"
   ]
  },
  {
   "cell_type": "code",
   "execution_count": null,
   "id": "4a3d0310-d2c5-45a2-a5de-d92013229ff1",
   "metadata": {},
   "outputs": [],
   "source": [
    "tensorboard_output_config = sagemaker.debugger.TensorBoardOutputConfig(\n",
    "    s3_output_path=tensorboard_s3_prefix,\n",
    "    container_local_output_path=\"/opt/training/\"\n",
    ")\n",
    "\n",
    "estimator = CustomFramework(\n",
    "    role=role,\n",
    "    image_uri=container,\n",
    "    entry_point=\"run_training.sh\",\n",
    "    source_dir=\"source_dir\",\n",
    "    hyperparameters={\n",
    "        \"model_dir\": \"/opt/training\",\n",
    "        \"pipeline_config_path\": \"faster_rcnn_pipeline.config\",\n",
    "        \"num_train_steps\": \"2000\",\n",
    "        \"sample_1_of_n_eval_examples\": \"1\"\n",
    "    },\n",
    "    instance_count=1,\n",
    "    instance_type=\"ml.g5.xlarge\",\n",
    "    tensorboard_output_config=tensorboard_output_config,\n",
    "    disable_profiler=True,\n",
    "    base_job_name=\"tf2-object-detection-faster-rcnn-resnet152\"\n",
    ")\n",
    "\n",
    "estimator.fit(inputs)"
   ]
  },
  {
   "cell_type": "markdown",
   "id": "9b1e76c7-0052-4dc5-b0f6-cae691c5a11d",
   "metadata": {},
   "source": [
    "## TODO 1.2\n",
    "## Model 2: SSD MobileNet V2 FPNLite 640x640"
   ]
  },
  {
   "cell_type": "code",
   "execution_count": null,
   "id": "a232b74b-29b4-4be6-a8e9-0f7d583a8918",
   "metadata": {},
   "outputs": [],
   "source": [
    "tensorboard_s3_prefix = \"s3://object-detection-project-singhsegv/ssd-mobilenet-v2-fpnlite/logs/\""
   ]
  },
  {
   "cell_type": "code",
   "execution_count": null,
   "id": "fcebec76-db55-4094-b6c7-9c91b55b131d",
   "metadata": {},
   "outputs": [],
   "source": [
    "%%bash\n",
    "\n",
    "mkdir /tmp/checkpoint\n",
    "mkdir source_dir/checkpoint\n",
    "wget -O /tmp/ssd_mobilenet_v2_fpnlite.tar.gz http://download.tensorflow.org/models/object_detection/tf2/20200711/ssd_mobilenet_v2_fpnlite_640x640_coco17_tpu-8.tar.gz\n",
    "tar -zxvf /tmp/ssd_mobilenet_v2_fpnlite.tar.gz --strip-components 2 --directory source_dir/checkpoint ssd_mobilenet_v2_fpnlite_640x640_coco17_tpu-8/checkpoint"
   ]
  },
  {
   "cell_type": "code",
   "execution_count": null,
   "id": "e1a26626-8cf8-488a-afa2-35b0d415e3d7",
   "metadata": {},
   "outputs": [],
   "source": [
    "tensorboard_output_config = sagemaker.debugger.TensorBoardOutputConfig(\n",
    "    s3_output_path=tensorboard_s3_prefix,\n",
    "    container_local_output_path=\"/opt/training/\"\n",
    ")\n",
    "\n",
    "estimator = CustomFramework(\n",
    "    role=role,\n",
    "    image_uri=container,\n",
    "    entry_point=\"run_training.sh\",\n",
    "    source_dir=\"source_dir\",\n",
    "    hyperparameters={\n",
    "        \"model_dir\": \"/opt/training\",\n",
    "        \"pipeline_config_path\": \"ssd_mobilenet_v2_fpnlite.config\",\n",
    "        \"num_train_steps\": \"2000\",\n",
    "        \"sample_1_of_n_eval_examples\": \"1\"\n",
    "    },\n",
    "    instance_count=1,\n",
    "    instance_type=\"ml.g5.xlarge\",\n",
    "    tensorboard_output_config=tensorboard_output_config,\n",
    "    disable_profiler=True,\n",
    "    base_job_name=\"tf2-object-detection-ssd-mobilenet-v2-fpnlite\"\n",
    ")\n",
    "\n",
    "estimator.fit(inputs)"
   ]
  }
 ],
 "metadata": {
  "kernelspec": {
   "display_name": "Python [conda env:tf_object_detection] *",
   "language": "python",
   "name": "conda-env-tf_object_detection-py"
  },
  "language_info": {
   "codemirror_mode": {
    "name": "ipython",
    "version": 3
   },
   "file_extension": ".py",
   "mimetype": "text/x-python",
   "name": "python",
   "nbconvert_exporter": "python",
   "pygments_lexer": "ipython3",
   "version": "3.10.10"
  }
 },
 "nbformat": 4,
 "nbformat_minor": 5
}
