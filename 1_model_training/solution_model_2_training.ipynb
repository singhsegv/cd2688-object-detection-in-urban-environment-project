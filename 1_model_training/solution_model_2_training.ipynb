{
 "cells": [
  {
   "cell_type": "markdown",
   "id": "fd003373-3385-4bf5-8149-9295aa7c10bb",
   "metadata": {},
   "source": [
    "# Solution Model 2\n",
    "### SSD MobileNet V2 FPNLite 640x640"
   ]
  },
  {
   "cell_type": "code",
   "execution_count": null,
   "id": "c7fbcaa2-6f3c-4f1c-b70f-5a89f053b9ae",
   "metadata": {},
   "outputs": [],
   "source": [
    "!pip install tensorflow_io sagemaker -U"
   ]
  },
  {
   "cell_type": "code",
   "execution_count": null,
   "id": "5f3b39c7-7ae4-40fa-b6b0-3f715ba7b6ce",
   "metadata": {},
   "outputs": [],
   "source": [
    "import os\n",
    "import sagemaker\n",
    "from framework import CustomFramework"
   ]
  },
  {
   "cell_type": "code",
   "execution_count": null,
   "id": "3229c381-a428-4d44-bf41-faf04ed42091",
   "metadata": {},
   "outputs": [],
   "source": [
    "role = sagemaker.get_execution_role()\n",
    "print(role)"
   ]
  },
  {
   "cell_type": "code",
   "execution_count": null,
   "id": "47abd8bc-4f0d-4b84-bd9a-e24e9b62e082",
   "metadata": {},
   "outputs": [],
   "source": [
    "inputs = {\n",
    "    \"train\": \"s3://cd2688-object-detection-tf2/train/\",\n",
    "    \"val\": \"s3://cd2688-object-detection-tf2/val/\"\n",
    "}\n",
    "\n",
    "tensorboard_s3_prefix = \"s3://object-detection-project-singhsegv/ssd-mobilenet-v2-fpnlite/logs/\""
   ]
  },
  {
   "cell_type": "code",
   "execution_count": null,
   "id": "e9faa50b-44d8-4e1c-8fc9-af2a350e1c67",
   "metadata": {},
   "outputs": [],
   "source": [
    "%%bash\n",
    "\n",
    "git clone https://github.com/tensorflow/models.git docker/models\n",
    "\n",
    "cp docker/models/research/object_detection/exporter_main_v2.py source_dir\n",
    "cp docker/models/research/object_detection/model_main_tf2.py source_dir"
   ]
  },
  {
   "cell_type": "code",
   "execution_count": null,
   "id": "c0472431-defc-43f3-9f2d-354c78eef2d5",
   "metadata": {},
   "outputs": [],
   "source": [
    "image_name = \"tf2-object-detection-ssd-mobilenet-v2-fpnlite\"\n",
    "!sh ./docker/build_and_push.sh $image_name"
   ]
  },
  {
   "cell_type": "code",
   "execution_count": null,
   "id": "d2465f84-4182-46b7-acb3-1442cc6c3f8b",
   "metadata": {},
   "outputs": [],
   "source": [
    "with open(os.path.join(\"docker\", \"ecr_image_fullname.txt\"), \"r\") as f:\n",
    "    container = f.readlines()[0][:-1]\n",
    "\n",
    "print(container)"
   ]
  },
  {
   "cell_type": "code",
   "execution_count": null,
   "id": "4fc955e1-abb8-4330-8430-5b51343fc085",
   "metadata": {},
   "outputs": [],
   "source": [
    "container = \"481217455434.dkr.ecr.us-east-1.amazonaws.com/tf2-object-detection-faster-rcnn-resnet152:20240129073701\""
   ]
  },
  {
   "cell_type": "code",
   "execution_count": null,
   "id": "61c427db-97f1-43e3-97f8-c50119c84a64",
   "metadata": {},
   "outputs": [],
   "source": [
    "%%bash\n",
    "\n",
    "mkdir /tmp/checkpoint\n",
    "mkdir source_dir/checkpoint\n",
    "wget -O /tmp/ssd_mobilenet_v2_fpnlite.tar.gz http://download.tensorflow.org/models/object_detection/tf2/20200711/ssd_mobilenet_v2_fpnlite_640x640_coco17_tpu-8.tar.gz\n",
    "tar -zxvf /tmp/ssd_mobilenet_v2_fpnlite.tar.gz --strip-components 2 --directory source_dir/checkpoint ssd_mobilenet_v2_fpnlite_640x640_coco17_tpu-8/checkpoint\n"
   ]
  },
  {
   "cell_type": "code",
   "execution_count": null,
   "id": "c317ac11-fe18-4404-98d6-86bd53fb10b2",
   "metadata": {},
   "outputs": [],
   "source": [
    "tensorboard_output_config = sagemaker.debugger.TensorBoardOutputConfig(\n",
    "    s3_output_path=tensorboard_s3_prefix,\n",
    "    container_local_output_path=\"/opt/training/\"\n",
    ")\n",
    "\n",
    "estimator = CustomFramework(\n",
    "    role=role,\n",
    "    image_uri=container,\n",
    "    entry_point=\"run_training.sh\",\n",
    "    source_dir=\"source_dir\",\n",
    "    hyperparameters={\n",
    "        \"model_dir\": \"/opt/training\",\n",
    "        \"pipeline_config_path\": \"ssd_mobilenet_v2_fpnlite.config\",\n",
    "        \"num_train_steps\": \"2000\",\n",
    "        \"sample_1_of_n_eval_examples\": \"1\"\n",
    "    },\n",
    "    instance_count=1,\n",
    "    instance_type=\"ml.g5.xlarge\",\n",
    "    tensorboard_output_config=tensorboard_output_config,\n",
    "    disable_profiler=True,\n",
    "    base_job_name=\"tf2-object-detection-ssd-mobilenet-v2-fpnlite\"\n",
    ")\n",
    "\n",
    "estimator.fit(inputs)"
   ]
  }
 ],
 "metadata": {
  "kernelspec": {
   "display_name": "Python [conda env:tf_object_detection] *",
   "language": "python",
   "name": "conda-env-tf_object_detection-py"
  },
  "language_info": {
   "codemirror_mode": {
    "name": "ipython",
    "version": 3
   },
   "file_extension": ".py",
   "mimetype": "text/x-python",
   "name": "python",
   "nbconvert_exporter": "python",
   "pygments_lexer": "ipython3",
   "version": "3.10.10"
  }
 },
 "nbformat": 4,
 "nbformat_minor": 5
}
