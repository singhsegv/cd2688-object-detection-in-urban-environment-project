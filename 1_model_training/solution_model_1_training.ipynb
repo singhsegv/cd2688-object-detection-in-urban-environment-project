{
 "cells": [
  {
   "cell_type": "markdown",
   "id": "248b15c6-91a7-49f5-b8b5-103506768c82",
   "metadata": {},
   "source": [
    "# Solution Model 1\n",
    "### Faster R-CNN ResNet152 V1 640x640"
   ]
  },
  {
   "cell_type": "code",
   "execution_count": 1,
   "id": "a98e60c2-5d72-4531-b628-6abd3a45f9da",
   "metadata": {
    "collapsed": true,
    "jupyter": {
     "outputs_hidden": true
    },
    "scrolled": true
   },
   "outputs": [
    {
     "name": "stdout",
     "output_type": "stream",
     "text": [
      "Requirement already satisfied: tensorflow_io in /Users/rajdeep1008/anaconda3/envs/tf_object_detection/lib/python3.10/site-packages (0.35.0)\n",
      "Collecting sagemaker\n",
      "  Downloading sagemaker-2.205.0-py3-none-any.whl.metadata (13 kB)\n",
      "Requirement already satisfied: tensorflow-io-gcs-filesystem==0.35.0 in /Users/rajdeep1008/anaconda3/envs/tf_object_detection/lib/python3.10/site-packages (from tensorflow_io) (0.35.0)\n",
      "Requirement already satisfied: attrs<24,>=23.1.0 in /Users/rajdeep1008/anaconda3/envs/tf_object_detection/lib/python3.10/site-packages (from sagemaker) (23.1.0)\n",
      "Collecting boto3<2.0,>=1.33.3 (from sagemaker)\n",
      "  Downloading boto3-1.34.29-py3-none-any.whl.metadata (6.6 kB)\n",
      "Requirement already satisfied: cloudpickle==2.2.1 in /Users/rajdeep1008/anaconda3/envs/tf_object_detection/lib/python3.10/site-packages (from sagemaker) (2.2.1)\n",
      "Requirement already satisfied: google-pasta in /Users/rajdeep1008/anaconda3/envs/tf_object_detection/lib/python3.10/site-packages (from sagemaker) (0.2.0)\n",
      "Requirement already satisfied: numpy<2.0,>=1.9.0 in /Users/rajdeep1008/anaconda3/envs/tf_object_detection/lib/python3.10/site-packages (from sagemaker) (1.24.3)\n",
      "Requirement already satisfied: protobuf<5.0,>=3.12 in /Users/rajdeep1008/anaconda3/envs/tf_object_detection/lib/python3.10/site-packages (from sagemaker) (3.20.3)\n",
      "Collecting smdebug-rulesconfig==1.0.1 (from sagemaker)\n",
      "  Downloading smdebug_rulesconfig-1.0.1-py2.py3-none-any.whl (20 kB)\n",
      "Collecting importlib-metadata<7.0,>=1.4.0 (from sagemaker)\n",
      "  Downloading importlib_metadata-6.11.0-py3-none-any.whl.metadata (4.9 kB)\n",
      "Requirement already satisfied: packaging>=20.0 in /Users/rajdeep1008/anaconda3/envs/tf_object_detection/lib/python3.10/site-packages (from sagemaker) (23.1)\n",
      "Requirement already satisfied: pandas in /Users/rajdeep1008/anaconda3/envs/tf_object_detection/lib/python3.10/site-packages (from sagemaker) (2.1.4)\n",
      "Collecting pathos (from sagemaker)\n",
      "  Downloading pathos-0.3.2-py3-none-any.whl.metadata (11 kB)\n",
      "Collecting schema (from sagemaker)\n",
      "  Downloading schema-0.7.5-py2.py3-none-any.whl (17 kB)\n",
      "Requirement already satisfied: PyYAML~=6.0 in /Users/rajdeep1008/anaconda3/envs/tf_object_detection/lib/python3.10/site-packages (from sagemaker) (6.0.1)\n",
      "Requirement already satisfied: jsonschema in /Users/rajdeep1008/anaconda3/envs/tf_object_detection/lib/python3.10/site-packages (from sagemaker) (4.19.2)\n",
      "Requirement already satisfied: platformdirs in /Users/rajdeep1008/anaconda3/envs/tf_object_detection/lib/python3.10/site-packages (from sagemaker) (3.10.0)\n",
      "Collecting tblib<3,>=1.7.0 (from sagemaker)\n",
      "  Downloading tblib-2.0.0-py3-none-any.whl.metadata (25 kB)\n",
      "Requirement already satisfied: urllib3<1.27 in /Users/rajdeep1008/anaconda3/envs/tf_object_detection/lib/python3.10/site-packages (from sagemaker) (1.26.18)\n",
      "Requirement already satisfied: requests in /Users/rajdeep1008/anaconda3/envs/tf_object_detection/lib/python3.10/site-packages (from sagemaker) (2.31.0)\n",
      "Collecting docker (from sagemaker)\n",
      "  Downloading docker-7.0.0-py3-none-any.whl.metadata (3.5 kB)\n",
      "Requirement already satisfied: tqdm in /Users/rajdeep1008/anaconda3/envs/tf_object_detection/lib/python3.10/site-packages (from sagemaker) (4.66.1)\n",
      "Requirement already satisfied: psutil in /Users/rajdeep1008/anaconda3/envs/tf_object_detection/lib/python3.10/site-packages (from sagemaker) (5.9.0)\n",
      "Collecting botocore<1.35.0,>=1.34.29 (from boto3<2.0,>=1.33.3->sagemaker)\n",
      "  Downloading botocore-1.34.29-py3-none-any.whl.metadata (5.7 kB)\n",
      "Collecting jmespath<2.0.0,>=0.7.1 (from boto3<2.0,>=1.33.3->sagemaker)\n",
      "  Using cached jmespath-1.0.1-py3-none-any.whl (20 kB)\n",
      "Collecting s3transfer<0.11.0,>=0.10.0 (from boto3<2.0,>=1.33.3->sagemaker)\n",
      "  Using cached s3transfer-0.10.0-py3-none-any.whl.metadata (1.7 kB)\n",
      "Requirement already satisfied: zipp>=0.5 in /Users/rajdeep1008/anaconda3/envs/tf_object_detection/lib/python3.10/site-packages (from importlib-metadata<7.0,>=1.4.0->sagemaker) (3.17.0)\n",
      "Requirement already satisfied: charset-normalizer<4,>=2 in /Users/rajdeep1008/anaconda3/envs/tf_object_detection/lib/python3.10/site-packages (from requests->sagemaker) (2.0.4)\n",
      "Requirement already satisfied: idna<4,>=2.5 in /Users/rajdeep1008/anaconda3/envs/tf_object_detection/lib/python3.10/site-packages (from requests->sagemaker) (3.4)\n",
      "Requirement already satisfied: certifi>=2017.4.17 in /Users/rajdeep1008/anaconda3/envs/tf_object_detection/lib/python3.10/site-packages (from requests->sagemaker) (2023.11.17)\n",
      "Requirement already satisfied: six in /Users/rajdeep1008/anaconda3/envs/tf_object_detection/lib/python3.10/site-packages (from google-pasta->sagemaker) (1.16.0)\n",
      "Requirement already satisfied: jsonschema-specifications>=2023.03.6 in /Users/rajdeep1008/anaconda3/envs/tf_object_detection/lib/python3.10/site-packages (from jsonschema->sagemaker) (2023.12.1)\n",
      "Requirement already satisfied: referencing>=0.28.4 in /Users/rajdeep1008/anaconda3/envs/tf_object_detection/lib/python3.10/site-packages (from jsonschema->sagemaker) (0.30.2)\n",
      "Requirement already satisfied: rpds-py>=0.7.1 in /Users/rajdeep1008/anaconda3/envs/tf_object_detection/lib/python3.10/site-packages (from jsonschema->sagemaker) (0.10.6)\n",
      "Requirement already satisfied: python-dateutil>=2.8.2 in /Users/rajdeep1008/anaconda3/envs/tf_object_detection/lib/python3.10/site-packages (from pandas->sagemaker) (2.8.2)\n",
      "Requirement already satisfied: pytz>=2020.1 in /Users/rajdeep1008/anaconda3/envs/tf_object_detection/lib/python3.10/site-packages (from pandas->sagemaker) (2023.3.post1)\n",
      "Requirement already satisfied: tzdata>=2022.1 in /Users/rajdeep1008/anaconda3/envs/tf_object_detection/lib/python3.10/site-packages (from pandas->sagemaker) (2023.4)\n",
      "Collecting ppft>=1.7.6.8 (from pathos->sagemaker)\n",
      "  Downloading ppft-1.7.6.8-py3-none-any.whl.metadata (12 kB)\n",
      "Collecting dill>=0.3.8 (from pathos->sagemaker)\n",
      "  Downloading dill-0.3.8-py3-none-any.whl.metadata (10 kB)\n",
      "Collecting pox>=0.3.4 (from pathos->sagemaker)\n",
      "  Downloading pox-0.3.4-py3-none-any.whl.metadata (8.0 kB)\n",
      "Collecting multiprocess>=0.70.16 (from pathos->sagemaker)\n",
      "  Downloading multiprocess-0.70.16-py310-none-any.whl.metadata (7.2 kB)\n",
      "Requirement already satisfied: contextlib2>=0.5.5 in /Users/rajdeep1008/anaconda3/envs/tf_object_detection/lib/python3.10/site-packages (from schema->sagemaker) (21.6.0)\n",
      "Collecting referencing>=0.28.4 (from jsonschema->sagemaker)\n",
      "  Downloading referencing-0.33.0-py3-none-any.whl.metadata (2.7 kB)\n",
      "Downloading sagemaker-2.205.0-py3-none-any.whl (1.4 MB)\n",
      "\u001b[2K   \u001b[90m━━━━━━━━━━━━━━━━━━━━━━━━━━━━━━━━━━━━━━━━\u001b[0m \u001b[32m1.4/1.4 MB\u001b[0m \u001b[31m409.7 kB/s\u001b[0m eta \u001b[36m0:00:00\u001b[0m00:01\u001b[0m00:01\u001b[0m\n",
      "\u001b[?25hDownloading boto3-1.34.29-py3-none-any.whl (139 kB)\n",
      "\u001b[2K   \u001b[90m━━━━━━━━━━━━━━━━━━━━━━━━━━━━━━━━━━━━━━━\u001b[0m \u001b[32m139.3/139.3 kB\u001b[0m \u001b[31m348.4 kB/s\u001b[0m eta \u001b[36m0:00:00\u001b[0m\u001b[36m0:00:01\u001b[0m\n",
      "\u001b[?25hDownloading importlib_metadata-6.11.0-py3-none-any.whl (23 kB)\n",
      "Downloading tblib-2.0.0-py3-none-any.whl (11 kB)\n",
      "Downloading docker-7.0.0-py3-none-any.whl (147 kB)\n",
      "\u001b[2K   \u001b[90m━━━━━━━━━━━━━━━━━━━━━━━━━━━━━━━━━━━━━━━\u001b[0m \u001b[32m147.6/147.6 kB\u001b[0m \u001b[31m153.7 kB/s\u001b[0m eta \u001b[36m0:00:00\u001b[0ma \u001b[36m0:00:01\u001b[0m\n",
      "\u001b[?25hDownloading pathos-0.3.2-py3-none-any.whl (82 kB)\n",
      "\u001b[2K   \u001b[90m━━━━━━━━━━━━━━━━━━━━━━━━━━━━━━━━━━━━━━━━\u001b[0m \u001b[32m82.1/82.1 kB\u001b[0m \u001b[31m187.5 kB/s\u001b[0m eta \u001b[36m0:00:00\u001b[0m00:01\u001b[0m00:01\u001b[0m\n",
      "\u001b[?25hDownloading botocore-1.34.29-py3-none-any.whl (11.9 MB)\n",
      "\u001b[2K   \u001b[90m━━━━━━━━━━━━━━━━━━━━━━━━━━━━━━━━━━━━━━━━\u001b[0m \u001b[32m11.9/11.9 MB\u001b[0m \u001b[31m195.7 kB/s\u001b[0m eta \u001b[36m0:00:00\u001b[0m00:01\u001b[0m00:02\u001b[0m\n",
      "\u001b[?25hDownloading dill-0.3.8-py3-none-any.whl (116 kB)\n",
      "\u001b[2K   \u001b[90m━━━━━━━━━━━━━━━━━━━━━━━━━━━━━━━━━━━━━━━━\u001b[0m \u001b[32m116.3/116.3 kB\u001b[0m \u001b[31m74.4 kB/s\u001b[0m eta \u001b[36m0:00:00\u001b[0m \u001b[36m0:00:01\u001b[0mm\n",
      "\u001b[?25hDownloading multiprocess-0.70.16-py310-none-any.whl (134 kB)\n",
      "\u001b[2K   \u001b[90m━━━━━━━━━━━━━━━━━━━━━━━━━━━━━━━━━━━━━━━\u001b[0m \u001b[32m134.8/134.8 kB\u001b[0m \u001b[31m210.4 kB/s\u001b[0m eta \u001b[36m0:00:00\u001b[0m00:01\u001b[0m00:01\u001b[0m\n",
      "\u001b[?25hDownloading pox-0.3.4-py3-none-any.whl (29 kB)\n",
      "Downloading ppft-1.7.6.8-py3-none-any.whl (56 kB)\n",
      "\u001b[2K   \u001b[90m━━━━━━━━━━━━━━━━━━━━━━━━━━━━━━━━━━━━━━━━\u001b[0m \u001b[32m56.8/56.8 kB\u001b[0m \u001b[31m500.7 kB/s\u001b[0m eta \u001b[36m0:00:00\u001b[0ma \u001b[36m0:00:01\u001b[0m\n",
      "\u001b[?25hDownloading referencing-0.33.0-py3-none-any.whl (26 kB)\n",
      "Using cached s3transfer-0.10.0-py3-none-any.whl (82 kB)\n",
      "Installing collected packages: tblib, smdebug-rulesconfig, schema, referencing, ppft, pox, jmespath, importlib-metadata, dill, multiprocess, docker, botocore, s3transfer, pathos, boto3, sagemaker\n",
      "  Attempting uninstall: referencing\n",
      "    Found existing installation: referencing 0.30.2\n",
      "    Uninstalling referencing-0.30.2:\n",
      "      Successfully uninstalled referencing-0.30.2\n",
      "  Attempting uninstall: dill\n",
      "    Found existing installation: dill 0.3.1.1\n",
      "    Uninstalling dill-0.3.1.1:\n",
      "      Successfully uninstalled dill-0.3.1.1\n",
      "\u001b[31mERROR: pip's dependency resolver does not currently take into account all the packages that are installed. This behaviour is the source of the following dependency conflicts.\n",
      "apache-beam 2.53.0 requires dill<0.3.2,>=0.3.1.1, but you have dill 0.3.8 which is incompatible.\u001b[0m\u001b[31m\n",
      "\u001b[0mSuccessfully installed boto3-1.34.29 botocore-1.34.29 dill-0.3.8 docker-7.0.0 importlib-metadata-6.11.0 jmespath-1.0.1 multiprocess-0.70.16 pathos-0.3.2 pox-0.3.4 ppft-1.7.6.8 referencing-0.32.1 s3transfer-0.10.0 sagemaker-2.205.0 schema-0.7.5 smdebug-rulesconfig-1.0.1 tblib-2.0.0\n"
     ]
    }
   ],
   "source": [
    "!pip install tensorflow_io sagemaker -U"
   ]
  },
  {
   "cell_type": "code",
   "execution_count": 2,
   "id": "45a546a5-7330-4750-91f2-ca5b761be11d",
   "metadata": {},
   "outputs": [],
   "source": [
    "import os\n",
    "import sagemaker\n",
    "from framework import CustomFramework"
   ]
  },
  {
   "cell_type": "code",
   "execution_count": null,
   "id": "5296671b-f7d2-4c35-af83-e44006c49b49",
   "metadata": {},
   "outputs": [],
   "source": [
    "role = sagemaker.get_execution_role()\n",
    "print(role)"
   ]
  },
  {
   "cell_type": "code",
   "execution_count": 3,
   "id": "57bf31f7-6b46-4037-8c49-ee1656646fa2",
   "metadata": {},
   "outputs": [],
   "source": [
    "inputs = {\n",
    "    \"train\": \"s3://cd2688-object-detection-tf2/train/\",\n",
    "    \"val\": \"s3://cd2688-object-detection-tf2/val/\"\n",
    "}\n",
    "\n",
    "tensorboard_s3_prefix = \"s3://object-detection-project-singhsegv/faster-rcnn-resnet152/logs/\""
   ]
  },
  {
   "cell_type": "code",
   "execution_count": 4,
   "id": "bd1f9463-e980-45bd-a580-1a36ed3d190b",
   "metadata": {
    "collapsed": true,
    "jupyter": {
     "outputs_hidden": true
    }
   },
   "outputs": [
    {
     "name": "stderr",
     "output_type": "stream",
     "text": [
      "Cloning into 'docker/models'...\n"
     ]
    },
    {
     "name": "stdout",
     "output_type": "stream",
     "text": [
      "Process is interrupted.\n"
     ]
    }
   ],
   "source": [
    "%%bash\n",
    "\n",
    "git clone https://github.com/tensorflow/models.git docker/models\n",
    "\n",
    "cp docker/models/research/object_detection/exporter_main_v2.py source_dir\n",
    "cp docker/models/research/object_detection/model_main_tf2.py source_dir"
   ]
  },
  {
   "cell_type": "code",
   "execution_count": null,
   "id": "ac412db0-da4f-45d8-b194-ddc36885d6d7",
   "metadata": {},
   "outputs": [],
   "source": [
    "image_name = \"tf2-object-detection-faster-rcnn-resnet152\"\n",
    "!sh ./docker/build_and_push.sh $image_name"
   ]
  },
  {
   "cell_type": "code",
   "execution_count": null,
   "id": "476d2172-2e7c-4f9c-ab79-8d9aea2e64f1",
   "metadata": {},
   "outputs": [],
   "source": [
    "with open(os.path.join(\"docker\", \"ecr_image_fullname.txt\"), \"r\") as f:\n",
    "    container = f.readlines()[0][:-1]\n",
    "\n",
    "print(container)"
   ]
  },
  {
   "cell_type": "markdown",
   "id": "ffe1cda2-cca4-4576-bbbc-f99910e938be",
   "metadata": {},
   "source": [
    "## TODO: Check me locally"
   ]
  },
  {
   "cell_type": "code",
   "execution_count": null,
   "id": "f96c323d-6b15-492f-befc-c3b0c84a32e0",
   "metadata": {},
   "outputs": [],
   "source": [
    "%%bash\n",
    "\n",
    "mkdir /tmp/checkpoint\n",
    "mkdir source_dir/checkpoint\n",
    "wget -O /tmp/faster_rcnn.tar.gz http://download.tensorflow.org/models/object_detection/tf2/20200711/faster_rcnn_resnet152_v1_640x640_coco17_tpu-8.tar.gz\n",
    "tar -zxvf /tmp/faster_rcnn.tar.gz --strip-components 2 --directory source_dir/checkpoint faster_rcnn_resnet152_v1_640x640_coco17_tpu-8/checkpoint"
   ]
  },
  {
   "cell_type": "code",
   "execution_count": null,
   "id": "b5d5e693-9fbf-47e5-ab05-c8dbec739afb",
   "metadata": {},
   "outputs": [],
   "source": [
    "tensorboard_output_config = sagemaker.debugger.TensorBoardOutputConfig(\n",
    "    s3_output_path=tensorboard_s3_prefix,\n",
    "    container_local_output_path=\"/opt/training/\"\n",
    ")\n",
    "\n",
    "estimator = CustomFramework(\n",
    "    role=role,\n",
    "    image_uri=container,\n",
    "    entry_point=\"run_training.sh\",\n",
    "    source_dir=\"source_dir\",\n",
    "    hyperparameters={\n",
    "        \"model_dir\": \"/opt/training\",\n",
    "        \"pipeline_config_path\": \"faster_rcnn_pipeline.config\",\n",
    "        \"num_train_steps\": \"2000\",\n",
    "        \"sample_1_of_n_eval_examples\": \"1\"\n",
    "    },\n",
    "    instance_count=1,\n",
    "    instance_type=\"ml.g5.xlarge\",\n",
    "    tensorboard_output_config=tensorboard_output_config,\n",
    "    disable_profiler=True,\n",
    "    base_job_name=\"tf2-object-detection-faster-rcnn-resnet152\"\n",
    ")\n",
    "\n",
    "estimator.fit(inputs)"
   ]
  }
 ],
 "metadata": {
  "kernelspec": {
   "display_name": "Python [conda env:tf_object_detection] *",
   "language": "python",
   "name": "conda-env-tf_object_detection-py"
  },
  "language_info": {
   "codemirror_mode": {
    "name": "ipython",
    "version": 3
   },
   "file_extension": ".py",
   "mimetype": "text/x-python",
   "name": "python",
   "nbconvert_exporter": "python",
   "pygments_lexer": "ipython3",
   "version": "3.10.10"
  }
 },
 "nbformat": 4,
 "nbformat_minor": 5
}
